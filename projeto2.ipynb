{
 "cells": [
  {
   "cell_type": "code",
   "execution_count": 1,
   "id": "e5ab34b0",
   "metadata": {},
   "outputs": [
    {
     "data": {
      "text/html": [
       "        <script type=\"text/javascript\">\n",
       "        window.PlotlyConfig = {MathJaxConfig: 'local'};\n",
       "        if (window.MathJax) {MathJax.Hub.Config({SVG: {font: \"STIX-Web\"}});}\n",
       "        if (typeof require !== 'undefined') {\n",
       "        require.undef(\"plotly\");\n",
       "        requirejs.config({\n",
       "            paths: {\n",
       "                'plotly': ['https://cdn.plot.ly/plotly-latest.min']\n",
       "            }\n",
       "        });\n",
       "        require(['plotly'], function(Plotly) {\n",
       "            window._Plotly = Plotly;\n",
       "        });\n",
       "        }\n",
       "        </script>\n",
       "        "
      ]
     },
     "metadata": {},
     "output_type": "display_data"
    }
   ],
   "source": [
    "import pandas as pd\n",
    "import freeman as fm\n",
    "import networkx as nx\n",
    "import statsmodels.api as sm\n",
    "\n",
    "from unidecode import unidecode\n",
    "from itertools import combinations\n",
    "from collections import defaultdict\n",
    "from hashlib import md5"
   ]
  },
  {
   "cell_type": "code",
   "execution_count": null,
   "id": "9fb300af",
   "metadata": {},
   "outputs": [],
   "source": [
    "data = pd.read_csv(\"Goodreads_BestBooksEver_1-10000.csv\")\n",
    "data = data.drop([\"url\", \"bookImage\", \"bookAuthors\", \"bookDesc\", \"bookPages\", \"recommendations\"], axis=1)\n",
    "data = data.dropna(how=\"any\").reset_index(drop=True)\n",
    "data.head()"
   ]
  },
  {
   "cell_type": "code",
   "execution_count": null,
   "id": "ab6f6c6d",
   "metadata": {},
   "outputs": [],
   "source": [
    "# Splitting by |\n",
    "data[\"bookGenres\"] = data[\"bookGenres\"].apply(lambda x: str(x)).apply(lambda y: y.split(\"|\"))\n",
    "\n",
    "# ISBN as int\n",
    "data[\"bookISBN\"] = data[\"bookISBN\"].apply(lambda x: int(x))\n",
    "\n",
    "# Convert bookTitle to a readable string\n",
    "data[\"bookTitle\"] = data[\"bookTitle\"].apply(lambda x: str(x))\n",
    "data[\"bookTitle\"] = data[\"bookTitle\"].apply(lambda y: y.replace(\"\\\"\", \"\"))\n",
    "data[\"bookTitle\"] = data[\"bookTitle\"].apply(lambda t: unidecode(t))\n",
    "\n",
    "# bookRating as float\n",
    "data[\"bookRating\"] = data[\"bookRating\"].apply(lambda r: float(r))\n",
    "\n",
    "# Transform counts to int, then normalize\n",
    "data[\"ratingCount\"] = data[\"ratingCount\"].apply(lambda r: int(r))\n",
    "sum_ratings = data[\"ratingCount\"].sum()\n",
    "data[\"ratingCount\"] = data[\"ratingCount\"].apply(lambda r: r/sum_ratings)\n",
    "\n",
    "data[\"reviewCount\"] = data[\"reviewCount\"].apply(lambda r: int(r))\n",
    "sum_reviews = data[\"reviewCount\"].sum()\n",
    "data[\"reviewCount\"] = data[\"reviewCount\"].apply(lambda r: r/sum_reviews)"
   ]
  },
  {
   "cell_type": "code",
   "execution_count": null,
   "id": "a64aba88",
   "metadata": {},
   "outputs": [],
   "source": [
    "data.head()"
   ]
  },
  {
   "cell_type": "code",
   "execution_count": null,
   "id": "ca78c39d",
   "metadata": {},
   "outputs": [],
   "source": [
    "nGenres = 8\n",
    "\n",
    "# Selecting only the books that have at least N genres\n",
    "data = data[data[\"bookGenres\"].map(len) >= nGenres]\n",
    "\n",
    "# Transforming list to a dict\n",
    "def make_dic(glist):\n",
    "    dic = {}\n",
    "    \n",
    "    for gc in glist:\n",
    "        gc = gc.split(\"/\")\n",
    "        genre, votes = gc[0], gc[1]\n",
    "        \n",
    "        votes = votes.replace(\",\", \"\")\n",
    "        if votes == \"\":\n",
    "            # Used continue because there is only one case of empty votes in dataset\n",
    "            continue\n",
    "            \n",
    "        dic[genre] = int(votes)\n",
    "        \n",
    "    dic = {k: v for k, v in sorted(dic.items(), key=lambda item: item[1], reverse=True)}\n",
    "        \n",
    "    return dic\n",
    "\n",
    "data[\"dictGenres\"] = data[\"bookGenres\"].apply(lambda x: make_dic(x))\n",
    "\n",
    "# Since we need to check the highestVotedGenres, we can transform them to a hash for easier use\n",
    "def make_hash(d):\n",
    "    string = \"\"\n",
    "    \n",
    "    keys = list(d.keys())[:nGenres]\n",
    "    \n",
    "    for k in keys:\n",
    "        string += str(k) + \", \"\n",
    "    \n",
    "    string = string[:-2]        \n",
    "    obj = md5(string.encode('utf-8'))\n",
    "    \n",
    "    return obj.hexdigest()\n",
    "\n",
    "# Select the keys for highest voted genres (dic is already in order)\n",
    "data[\"highestVotedGenres\"] = data[\"dictGenres\"].apply(lambda d: make_hash(d))\n",
    "\n",
    "data[\"genreVotes\"] = data[\"dictGenres\"].apply(lambda d: sum(d.values()))"
   ]
  },
  {
   "cell_type": "code",
   "execution_count": null,
   "id": "d16870fc",
   "metadata": {},
   "outputs": [],
   "source": [
    "# Keeping only columns we will use\n",
    "network = data[[\"bookTitle\", \"bookRating\", \"ratingCount\", \"reviewCount\", \"bookISBN\", \"highestVotedGenres\", \"genreVotes\"]]\n",
    "\n",
    "# Remove duplicated rows\n",
    "network = network[~network.duplicated()]\n",
    "network.head()"
   ]
  },
  {
   "cell_type": "code",
   "execution_count": null,
   "id": "174dbada",
   "metadata": {},
   "outputs": [],
   "source": [
    "dic = network.to_dict(\"list\")\n",
    "\n",
    "def list_duplicates(seq):\n",
    "    tally = defaultdict(list)\n",
    "    \n",
    "    for i, item in enumerate(seq):\n",
    "        tally[item].append(i)\n",
    "        \n",
    "    return ((key, locs) for key, locs in tally.items() if len(locs)>1)\n",
    "\n",
    "idups = dict(sorted(list_duplicates(dic[\"bookISBN\"])))\n",
    "bdups = dict(sorted(list_duplicates(dic[\"bookTitle\"])))"
   ]
  },
  {
   "cell_type": "code",
   "execution_count": null,
   "id": "6add0952",
   "metadata": {},
   "outputs": [],
   "source": [
    "new_dic = {\n",
    "    \"bookTitle\": [], \n",
    "    \"bookRating\": [], \n",
    "    \"ratingCount\": [], \n",
    "    \"reviewCount\": [], \n",
    "    \"bookISBN\": [], \n",
    "    \"highestVotedGenres\": [], \n",
    "    \"genreVotes\": []\n",
    "}\n",
    "\n",
    "for i in range(len(dic[\"bookTitle\"])):\n",
    "    isbn = dic[\"bookISBN\"][i]\n",
    "    name = dic[\"bookTitle\"][i]\n",
    "    \n",
    "    if isbn in idups.keys():\n",
    "        if isbn in new_dic[\"bookISBN\"]:\n",
    "            continue\n",
    "            \n",
    "        else:    \n",
    "            new_dic[\"bookTitle\"].append(name)\n",
    "            new_dic[\"bookRating\"].append(dic[\"bookRating\"][i])\n",
    "            new_dic[\"ratingCount\"].append(dic[\"ratingCount\"][i])\n",
    "            new_dic[\"reviewCount\"].append(dic[\"reviewCount\"][i])\n",
    "            new_dic[\"bookISBN\"].append(isbn)\n",
    "            new_dic[\"highestVotedGenres\"].append(dic[\"highestVotedGenres\"][i])\n",
    "            votes = 0\n",
    "            for index in idups[isbn]:\n",
    "                votes += dic[\"genreVotes\"][index]\n",
    "            new_dic[\"genreVotes\"].append(votes)\n",
    "    \n",
    "    elif name in bdups.keys():\n",
    "        if name in new_dic[\"bookTitle\"]:\n",
    "            continue\n",
    "        \n",
    "        else:\n",
    "            new_dic[\"bookTitle\"].append(name)\n",
    "            new_dic[\"bookRating\"].append(dic[\"bookRating\"][i])\n",
    "            new_dic[\"ratingCount\"].append(dic[\"ratingCount\"][i])\n",
    "            new_dic[\"reviewCount\"].append(dic[\"reviewCount\"][i])\n",
    "            new_dic[\"bookISBN\"].append(isbn)\n",
    "            new_dic[\"highestVotedGenres\"].append(dic[\"highestVotedGenres\"][i])\n",
    "            votes = 0\n",
    "            for index in bdups[name]:\n",
    "                votes += dic[\"genreVotes\"][index]\n",
    "            new_dic[\"genreVotes\"].append(votes)\n",
    "        \n",
    "    else:\n",
    "        new_dic[\"bookTitle\"].append(name)\n",
    "        new_dic[\"bookRating\"].append(dic[\"bookRating\"][i])\n",
    "        new_dic[\"ratingCount\"].append(dic[\"ratingCount\"][i])\n",
    "        new_dic[\"reviewCount\"].append(dic[\"reviewCount\"][i])\n",
    "        new_dic[\"bookISBN\"].append(isbn)\n",
    "        new_dic[\"highestVotedGenres\"].append(dic[\"highestVotedGenres\"][i])\n",
    "        new_dic[\"genreVotes\"].append(dic[\"genreVotes\"][i])\n",
    "        \n",
    "network = pd.DataFrame.from_dict(new_dic)\n",
    "network.head()"
   ]
  },
  {
   "cell_type": "code",
   "execution_count": null,
   "id": "a7875399",
   "metadata": {},
   "outputs": [],
   "source": [
    "network[\"genreVotes\"].describe()"
   ]
  },
  {
   "cell_type": "code",
   "execution_count": null,
   "id": "46b69f2c",
   "metadata": {
    "scrolled": true
   },
   "outputs": [],
   "source": [
    "# Cutting off by 2500 genres\n",
    "network = network[network[\"genreVotes\"] >= 2500]\n",
    "\n",
    "# Now we normalize\n",
    "# Didnt do it beforehand to get a better describe on the genreVotes column\n",
    "sum_genres = network[\"genreVotes\"].sum()\n",
    "network[\"genreVotes\"] = network[\"genreVotes\"].apply(lambda v: v/sum_genres)\n",
    "\n",
    "# Resetting index\n",
    "network.reset_index(drop=True, inplace=True)\n",
    "\n",
    "# Popularity column\n",
    "network[\"Popularity\"] = network[\"ratingCount\"] + network[\"reviewCount\"] + network[\"genreVotes\"]\n",
    "\n",
    "# Dropping unused columns\n",
    "network = network.drop([\"ratingCount\", \"reviewCount\", \"genreVotes\"], axis=1)"
   ]
  },
  {
   "cell_type": "code",
   "execution_count": null,
   "id": "bd180851",
   "metadata": {},
   "outputs": [],
   "source": [
    "network.head()"
   ]
  },
  {
   "cell_type": "code",
   "execution_count": null,
   "id": "97b291d8",
   "metadata": {},
   "outputs": [],
   "source": [
    "rede = {}\n",
    "\n",
    "genres = network[\"highestVotedGenres\"].unique()\n",
    "\n",
    "for g in genres:\n",
    "    lbooks = network[network[\"highestVotedGenres\"] == g][\"bookISBN\"]\n",
    "    rede[g] = [isbn for isbn in lbooks]"
   ]
  },
  {
   "cell_type": "code",
   "execution_count": null,
   "id": "d224a706",
   "metadata": {},
   "outputs": [],
   "source": [
    "# Obtendo todas as combinacoes possiveis\n",
    "# https://stackoverflow.com/questions/464864/how-to-get-all-possible-combinations-of-a-list-s-elements\n",
    "combs = []\n",
    "\n",
    "for genres in rede.keys():\n",
    "    combs += list(combinations(rede[genres], 2))"
   ]
  },
  {
   "cell_type": "code",
   "execution_count": null,
   "id": "0e59c050",
   "metadata": {
    "scrolled": true
   },
   "outputs": [],
   "source": [
    "edges = []\n",
    "books = []\n",
    "\n",
    "for c in combs:\n",
    "    b1 = c[0]\n",
    "    b2 = c[1]\n",
    "    if b1 not in books:\n",
    "        books.append(b1)\n",
    "    if b2 not in books:\n",
    "        books.append(b2)\n",
    "    edges += [(b1, b2)]\n",
    "\n",
    "books = list(set(books))\n",
    "print(len(books))\n",
    "print(len(edges))"
   ]
  },
  {
   "cell_type": "code",
   "execution_count": null,
   "id": "06c417b0",
   "metadata": {},
   "outputs": [],
   "source": [
    "with open(\"books_genres.gml\", \"w+\") as file:\n",
    "    file.write(\"graph [\\n\")\n",
    "    file.write(\"    directed 0\\n\")\n",
    "    \n",
    "    for b in books:\n",
    "        isbn = b\n",
    "        title = list(network[network[\"bookISBN\"] == b][\"bookTitle\"])[0]\n",
    "        \n",
    "        file.write(\"    node [\\n\")\n",
    "        file.write(f\"        id {isbn}\\n\")\n",
    "        file.write(f'        label \"{title}\"\\n')\n",
    "        file.write(\"    ]\\n\")\n",
    "            \n",
    "    for tup in edges:\n",
    "        file.write(\"    edge [\\n\")\n",
    "        file.write(f\"        source {tup[0]}\\n\")\n",
    "        file.write(f\"        target {tup[1]}\\n\")\n",
    "        file.write(\"    ]\\n\")\n",
    "    \n",
    "    file.write(\"]\\n\")"
   ]
  },
  {
   "cell_type": "code",
   "execution_count": null,
   "id": "4640164d",
   "metadata": {},
   "outputs": [],
   "source": [
    "g = fm.load(\"books_genres.gml\")\n",
    "for n in g.nodes:\n",
    "    g.nodes[n]['labpos'] = 'hover'\n",
    "    g.nodes[n]['size'] = 5\n",
    "g.move('kamada_kawai')\n",
    "g.draw()"
   ]
  },
  {
   "cell_type": "code",
   "execution_count": null,
   "id": "334e2e9f",
   "metadata": {},
   "outputs": [],
   "source": [
    "def make_prox(book, dprox):\n",
    "    if book in dprox.keys():\n",
    "        return dprox[book]\n",
    "    \n",
    "    else:\n",
    "        return None\n",
    "    \n",
    "prox = nx.closeness_centrality(g)\n",
    "\n",
    "network[\"Proximity\"] = network[\"bookISBN\"].apply(lambda b: make_prox(b, prox))\n",
    "reg_data = network.dropna(how=\"any\").reset_index(drop=True)\n",
    "\n",
    "X1 = reg_data[[\"bookRating\", \"Proximity\"]]\n",
    "X2 = reg_data[\"Proximity\"]\n",
    "Y = reg_data[\"Popularity\"]"
   ]
  },
  {
   "cell_type": "code",
   "execution_count": null,
   "id": "2461c431",
   "metadata": {},
   "outputs": [],
   "source": [
    "model1 = sm.OLS(Y, X1).fit()\n",
    "p1 = model1.predict(X1)\n",
    "\n",
    "model1.summary()"
   ]
  },
  {
   "cell_type": "code",
   "execution_count": null,
   "id": "d504c188",
   "metadata": {},
   "outputs": [],
   "source": [
    "model2 = sm.OLS(Y, X2).fit()\n",
    "p2 = model1.predict(X2)\n",
    "\n",
    "model2.summary()"
   ]
  }
 ],
 "metadata": {
  "kernelspec": {
   "display_name": "Python 3",
   "language": "python",
   "name": "python3"
  },
  "language_info": {
   "codemirror_mode": {
    "name": "ipython",
    "version": 3
   },
   "file_extension": ".py",
   "mimetype": "text/x-python",
   "name": "python",
   "nbconvert_exporter": "python",
   "pygments_lexer": "ipython3",
   "version": "3.9.5"
  }
 },
 "nbformat": 4,
 "nbformat_minor": 5
}
